{
 "cells": [
  {
   "cell_type": "code",
   "execution_count": null,
   "id": "23dd06f7",
   "metadata": {},
   "outputs": [],
   "source": [
    "!pip install tweepy"
   ]
  },
  {
   "cell_type": "code",
   "execution_count": null,
   "id": "f11f02be",
   "metadata": {},
   "outputs": [],
   "source": [
    "import tweepy"
   ]
  },
  {
   "cell_type": "code",
   "execution_count": null,
   "id": "8b1b9ff2",
   "metadata": {},
   "outputs": [],
   "source": [
    "API_key = \"uI3HTuerVuw5ya0EJ1n0A0FAC\"\n",
    "\n",
    "API_key_secret = \"V6E35DUkHBj556h2U86HaQgHhnN88F7IbG8d8Dc3jBkXhakDrh\"\n",
    "\n",
    "bearer_token = \"AAAAAAAAAAAAAAAAAAAAABgwfgEAAAAAFSrHBj47rNKiS%2B89NvzIwJ0%2FMcQ%3DbpCJFHYN2FTX2uT9fJAOHxIiirjVOPo4ogh7XS8wnisBT9zsU1\"\n",
    "\n",
    "access_token = r\"243735033-YDniDFK8waF7KzqI20N4Yr8FM13zJWnzLGVyKuhN\"\n",
    "\n",
    "access_token_secret = \"i3RTIWOBPCXUbKjsS3aUunqxG3MMcDCSCo9hjJlUM6Woa\"\n"
   ]
  },
  {
   "cell_type": "code",
   "execution_count": null,
   "id": "4b0dbca4",
   "metadata": {},
   "outputs": [],
   "source": [
    "class MyStreamingClient(tweepy.StreamingClient):\n",
    "    def setClientSocket(self, c_socket):\n",
    "        self.client_socket = c_socket\n",
    "    def on_tweet(self,tweet):\n",
    "        try:\n",
    "            print(tweet.text)\n",
    "            self.client_socket.send(tweet.text.encode(\"utf-8\"))\n",
    "        except BaseException as e:\n",
    "            print(f\"Error in on_tweet: {str(e.withtraceback)}\")\n",
    "    def on_errors(self, errors):\n",
    "        print(f\"Error in streaming : {str(errors)}\")"
   ]
  },
  {
   "cell_type": "code",
   "execution_count": null,
   "id": "9bbe3b0d",
   "metadata": {},
   "outputs": [],
   "source": [
    "import socket"
   ]
  },
  {
   "cell_type": "code",
   "execution_count": null,
   "id": "1c709110",
   "metadata": {},
   "outputs": [],
   "source": [
    "s = socket.socket()"
   ]
  },
  {
   "cell_type": "code",
   "execution_count": null,
   "id": "21cffe29",
   "metadata": {},
   "outputs": [],
   "source": [
    "host = \"127.0.0.1\"\n",
    "port = 9999"
   ]
  },
  {
   "cell_type": "code",
   "execution_count": null,
   "id": "eaa8998a",
   "metadata": {},
   "outputs": [],
   "source": [
    "s.bind((host,port))"
   ]
  },
  {
   "cell_type": "code",
   "execution_count": null,
   "id": "cdacc594",
   "metadata": {},
   "outputs": [],
   "source": [
    "s.listen()"
   ]
  },
  {
   "cell_type": "code",
   "execution_count": null,
   "id": "5e6832fc",
   "metadata": {},
   "outputs": [],
   "source": [
    "client,addr = s.accept()"
   ]
  },
  {
   "cell_type": "code",
   "execution_count": null,
   "id": "e51942b6",
   "metadata": {},
   "outputs": [],
   "source": [
    "print(f\"Received Request from {str(addr)}\")"
   ]
  },
  {
   "cell_type": "code",
   "execution_count": null,
   "id": "ccb0ecd8",
   "metadata": {},
   "outputs": [],
   "source": [
    "myClient = MyStreamingClient(bearer_token)"
   ]
  },
  {
   "cell_type": "code",
   "execution_count": null,
   "id": "9d4ca590",
   "metadata": {},
   "outputs": [],
   "source": [
    "myClient.setClientSocket(client)"
   ]
  },
  {
   "cell_type": "code",
   "execution_count": null,
   "id": "d0e81bcf",
   "metadata": {},
   "outputs": [],
   "source": [
    "myClient.add_rules(tweepy.StreamRule(\"India\"))\n",
    "myClient.filter()"
   ]
  },
  {
   "cell_type": "code",
   "execution_count": null,
   "id": "413c86d5",
   "metadata": {},
   "outputs": [],
   "source": []
  }
 ],
 "metadata": {
  "kernelspec": {
   "display_name": "Python 3",
   "language": "python",
   "name": "python3"
  },
  "language_info": {
   "codemirror_mode": {
    "name": "ipython",
    "version": 3
   },
   "file_extension": ".py",
   "mimetype": "text/x-python",
   "name": "python",
   "nbconvert_exporter": "python",
   "pygments_lexer": "ipython3",
   "version": "3.8.8"
  }
 },
 "nbformat": 4,
 "nbformat_minor": 5
}
