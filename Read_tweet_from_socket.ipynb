{
 "cells": [
  {
   "cell_type": "code",
   "execution_count": null,
   "id": "95d7fd5c",
   "metadata": {},
   "outputs": [],
   "source": [
    "import findspark as fs\n",
    "fs.init()"
   ]
  },
  {
   "cell_type": "code",
   "execution_count": null,
   "id": "9b75a988",
   "metadata": {},
   "outputs": [],
   "source": [
    "from pyspark import SparkContext\n",
    "from pyspark.streaming import StreamingContext"
   ]
  },
  {
   "cell_type": "code",
   "execution_count": null,
   "id": "27790149",
   "metadata": {},
   "outputs": [],
   "source": [
    "sc = SparkContext(\"local[4]\",\"twitterExample\")\n",
    "ssc = StreamingContext(sc,5)"
   ]
  },
  {
   "cell_type": "code",
   "execution_count": null,
   "id": "3ce49e73",
   "metadata": {},
   "outputs": [],
   "source": [
    "host = \"127.0.0.1\"\n",
    "port = 9999\n",
    "tweets = ssc.socketTextStream(host,port) "
   ]
  },
  {
   "cell_type": "code",
   "execution_count": null,
   "id": "523b2688",
   "metadata": {},
   "outputs": [],
   "source": [
    "w_tweets = tweets.window(15)"
   ]
  },
  {
   "cell_type": "code",
   "execution_count": null,
   "id": "dce688f3",
   "metadata": {},
   "outputs": [],
   "source": [
    "words = w_tweets.flatMap(lambda line : line.split(\" \"))"
   ]
  },
  {
   "cell_type": "code",
   "execution_count": null,
   "id": "f03a66d7",
   "metadata": {},
   "outputs": [],
   "source": [
    "hashtags = words.filter(lambda word : word.startswith(\"#\"))"
   ]
  },
  {
   "cell_type": "code",
   "execution_count": null,
   "id": "cbc0ae26",
   "metadata": {},
   "outputs": [],
   "source": [
    "pairs = hashtags.map(lambda word : (word,1))"
   ]
  },
  {
   "cell_type": "code",
   "execution_count": null,
   "id": "53243463",
   "metadata": {},
   "outputs": [],
   "source": [
    "counts = pairs.reduceByKey(lambda x,y : x+y)"
   ]
  },
  {
   "cell_type": "code",
   "execution_count": null,
   "id": "13e66f79",
   "metadata": {},
   "outputs": [],
   "source": [
    "s_counts = counts.transform(lambda item: item.sortBy(lambda x: x[0]).sortBy(lambda x: x[1], ascending= False))"
   ]
  },
  {
   "cell_type": "code",
   "execution_count": null,
   "id": "9d733a0a",
   "metadata": {},
   "outputs": [],
   "source": [
    "s_counts.pprint()"
   ]
  },
  {
   "cell_type": "code",
   "execution_count": null,
   "id": "9ac0659c",
   "metadata": {},
   "outputs": [],
   "source": [
    "ssc.start()\n",
    "ssc.awaitTermination()"
   ]
  },
  {
   "cell_type": "code",
   "execution_count": null,
   "id": "c8a16c46",
   "metadata": {},
   "outputs": [],
   "source": []
  }
 ],
 "metadata": {
  "kernelspec": {
   "display_name": "Python 3",
   "language": "python",
   "name": "python3"
  },
  "language_info": {
   "codemirror_mode": {
    "name": "ipython",
    "version": 3
   },
   "file_extension": ".py",
   "mimetype": "text/x-python",
   "name": "python",
   "nbconvert_exporter": "python",
   "pygments_lexer": "ipython3",
   "version": "3.8.8"
  }
 },
 "nbformat": 4,
 "nbformat_minor": 5
}
