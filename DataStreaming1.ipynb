{
 "cells": [
  {
   "cell_type": "code",
   "execution_count": null,
   "id": "bd0efd43",
   "metadata": {},
   "outputs": [],
   "source": [
    "import findspark as fs\n",
    "fs.init()"
   ]
  },
  {
   "cell_type": "code",
   "execution_count": null,
   "id": "89e893b6",
   "metadata": {},
   "outputs": [],
   "source": [
    "import pyspark"
   ]
  },
  {
   "cell_type": "code",
   "execution_count": null,
   "id": "bd93d01d",
   "metadata": {},
   "outputs": [],
   "source": [
    "from pyspark import SparkContext\n",
    "from pyspark.streaming import StreamingContext"
   ]
  },
  {
   "cell_type": "code",
   "execution_count": null,
   "id": "c184be5e",
   "metadata": {},
   "outputs": [],
   "source": [
    "sc = SparkContext(\"local[4]\", \"Example1\")   \n",
    "# We are working on local system therefore we define 4 thread which work like Worker nodes otherwise we can define node number.\n",
    "                  \n",
    "ssc = StreamingContext(sc, 2)\n",
    "# Batch size = 2 seconds\n",
    "                  "
   ]
  },
  {
   "cell_type": "code",
   "execution_count": null,
   "id": "9d403136",
   "metadata": {},
   "outputs": [],
   "source": [
    "host = \"127.0.0.1\"\n",
    "port = 9999"
   ]
  },
  {
   "cell_type": "code",
   "execution_count": null,
   "id": "01b5da90",
   "metadata": {},
   "outputs": [],
   "source": [
    "lines = ssc.socketTextStream(host,port)"
   ]
  },
  {
   "cell_type": "code",
   "execution_count": null,
   "id": "bdb55cec",
   "metadata": {},
   "outputs": [],
   "source": [
    "words = lines.flatMap(lambda line : line.split(\" \"))"
   ]
  },
  {
   "cell_type": "code",
   "execution_count": null,
   "id": "17b7f9db",
   "metadata": {},
   "outputs": [],
   "source": [
    "pairs = words.map(lambda word : (word,1))"
   ]
  },
  {
   "cell_type": "code",
   "execution_count": null,
   "id": "308ed00b",
   "metadata": {},
   "outputs": [],
   "source": [
    "counts = pairs.reduceByKey(lambda x,y: x+y)"
   ]
  },
  {
   "cell_type": "code",
   "execution_count": null,
   "id": "1264e519",
   "metadata": {},
   "outputs": [],
   "source": [
    "counts.pprint()  # pprint() print 10 values at a time"
   ]
  },
  {
   "cell_type": "code",
   "execution_count": null,
   "id": "765bb1a0",
   "metadata": {},
   "outputs": [],
   "source": [
    "ssc.start()\n",
    "ssc.awaitTermination() # To prevent from error and manually terminate."
   ]
  },
  {
   "cell_type": "code",
   "execution_count": null,
   "id": "9db50740",
   "metadata": {},
   "outputs": [],
   "source": []
  }
 ],
 "metadata": {
  "kernelspec": {
   "display_name": "Python 3",
   "language": "python",
   "name": "python3"
  },
  "language_info": {
   "codemirror_mode": {
    "name": "ipython",
    "version": 3
   },
   "file_extension": ".py",
   "mimetype": "text/x-python",
   "name": "python",
   "nbconvert_exporter": "python",
   "pygments_lexer": "ipython3",
   "version": "3.8.8"
  }
 },
 "nbformat": 4,
 "nbformat_minor": 5
}
